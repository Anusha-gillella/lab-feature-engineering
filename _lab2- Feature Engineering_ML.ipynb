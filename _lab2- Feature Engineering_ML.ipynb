{
 "cells": [
  {
   "cell_type": "markdown",
   "id": "a3557191",
   "metadata": {},
   "source": [
    "# Donations Dataset"
   ]
  },
  {
   "cell_type": "code",
   "execution_count": 1,
   "id": "b4e0e837",
   "metadata": {},
   "outputs": [],
   "source": [
    "import pandas as pd\n",
    "import numpy as np\n",
    "import datetime\n",
    "import warnings\n",
    "import matplotlib.pyplot as plt\n",
    "import seaborn as sns\n",
    "\n",
    "warnings.filterwarnings('ignore')"
   ]
  },
  {
   "cell_type": "code",
   "execution_count": 2,
   "id": "8e7298a6",
   "metadata": {},
   "outputs": [],
   "source": [
    "data = pd.read_csv('/Users/vihaan/Desktop/lab-revisiting-machine-learning/data_7.01_activities/files_for_activities/learningSet.csv')"
   ]
  },
  {
   "cell_type": "code",
   "execution_count": 3,
   "id": "3e94608e",
   "metadata": {},
   "outputs": [
    {
     "data": {
      "text/plain": [
       "(95412, 481)"
      ]
     },
     "execution_count": 3,
     "metadata": {},
     "output_type": "execute_result"
    }
   ],
   "source": [
    "data.shape"
   ]
  },
  {
   "cell_type": "code",
   "execution_count": 4,
   "id": "e8f2451c",
   "metadata": {},
   "outputs": [
    {
     "data": {
      "text/html": [
       "<div>\n",
       "<style scoped>\n",
       "    .dataframe tbody tr th:only-of-type {\n",
       "        vertical-align: middle;\n",
       "    }\n",
       "\n",
       "    .dataframe tbody tr th {\n",
       "        vertical-align: top;\n",
       "    }\n",
       "\n",
       "    .dataframe thead th {\n",
       "        text-align: right;\n",
       "    }\n",
       "</style>\n",
       "<table border=\"1\" class=\"dataframe\">\n",
       "  <thead>\n",
       "    <tr style=\"text-align: right;\">\n",
       "      <th></th>\n",
       "      <th>ODATEDW</th>\n",
       "      <th>TCODE</th>\n",
       "      <th>DOB</th>\n",
       "      <th>AGE</th>\n",
       "      <th>NUMCHLD</th>\n",
       "      <th>INCOME</th>\n",
       "      <th>WEALTH1</th>\n",
       "      <th>HIT</th>\n",
       "      <th>MBCRAFT</th>\n",
       "      <th>MBGARDEN</th>\n",
       "      <th>...</th>\n",
       "      <th>FISTDATE</th>\n",
       "      <th>NEXTDATE</th>\n",
       "      <th>TIMELAG</th>\n",
       "      <th>AVGGIFT</th>\n",
       "      <th>CONTROLN</th>\n",
       "      <th>TARGET_B</th>\n",
       "      <th>TARGET_D</th>\n",
       "      <th>HPHONE_D</th>\n",
       "      <th>RFA_2F</th>\n",
       "      <th>CLUSTER2</th>\n",
       "    </tr>\n",
       "  </thead>\n",
       "  <tbody>\n",
       "    <tr>\n",
       "      <th>count</th>\n",
       "      <td>95412.000000</td>\n",
       "      <td>95412.000000</td>\n",
       "      <td>95412.000000</td>\n",
       "      <td>71747.000000</td>\n",
       "      <td>12386.000000</td>\n",
       "      <td>74126.000000</td>\n",
       "      <td>50680.000000</td>\n",
       "      <td>95412.000000</td>\n",
       "      <td>42558.000000</td>\n",
       "      <td>42558.000000</td>\n",
       "      <td>...</td>\n",
       "      <td>95412.000000</td>\n",
       "      <td>85439.000000</td>\n",
       "      <td>85439.000000</td>\n",
       "      <td>95412.000000</td>\n",
       "      <td>95412.000000</td>\n",
       "      <td>95412.000000</td>\n",
       "      <td>95412.000000</td>\n",
       "      <td>95412.000000</td>\n",
       "      <td>95412.000000</td>\n",
       "      <td>95280.000000</td>\n",
       "    </tr>\n",
       "    <tr>\n",
       "      <th>mean</th>\n",
       "      <td>9141.363256</td>\n",
       "      <td>54.223117</td>\n",
       "      <td>2723.602933</td>\n",
       "      <td>61.611649</td>\n",
       "      <td>1.527773</td>\n",
       "      <td>3.886248</td>\n",
       "      <td>5.345699</td>\n",
       "      <td>3.321438</td>\n",
       "      <td>0.152075</td>\n",
       "      <td>0.059166</td>\n",
       "      <td>...</td>\n",
       "      <td>9135.651648</td>\n",
       "      <td>9151.022917</td>\n",
       "      <td>8.093739</td>\n",
       "      <td>13.347786</td>\n",
       "      <td>95778.176959</td>\n",
       "      <td>0.050759</td>\n",
       "      <td>0.793073</td>\n",
       "      <td>0.500618</td>\n",
       "      <td>1.910053</td>\n",
       "      <td>31.533711</td>\n",
       "    </tr>\n",
       "    <tr>\n",
       "      <th>std</th>\n",
       "      <td>343.454752</td>\n",
       "      <td>953.844476</td>\n",
       "      <td>2132.241295</td>\n",
       "      <td>16.664199</td>\n",
       "      <td>0.806861</td>\n",
       "      <td>1.854960</td>\n",
       "      <td>2.742490</td>\n",
       "      <td>9.306899</td>\n",
       "      <td>0.470023</td>\n",
       "      <td>0.262078</td>\n",
       "      <td>...</td>\n",
       "      <td>320.394019</td>\n",
       "      <td>294.257260</td>\n",
       "      <td>8.213242</td>\n",
       "      <td>10.769997</td>\n",
       "      <td>55284.596094</td>\n",
       "      <td>0.219506</td>\n",
       "      <td>4.429725</td>\n",
       "      <td>0.500002</td>\n",
       "      <td>1.072749</td>\n",
       "      <td>18.764614</td>\n",
       "    </tr>\n",
       "    <tr>\n",
       "      <th>min</th>\n",
       "      <td>8306.000000</td>\n",
       "      <td>0.000000</td>\n",
       "      <td>0.000000</td>\n",
       "      <td>1.000000</td>\n",
       "      <td>1.000000</td>\n",
       "      <td>1.000000</td>\n",
       "      <td>0.000000</td>\n",
       "      <td>0.000000</td>\n",
       "      <td>0.000000</td>\n",
       "      <td>0.000000</td>\n",
       "      <td>...</td>\n",
       "      <td>0.000000</td>\n",
       "      <td>7211.000000</td>\n",
       "      <td>0.000000</td>\n",
       "      <td>1.285714</td>\n",
       "      <td>1.000000</td>\n",
       "      <td>0.000000</td>\n",
       "      <td>0.000000</td>\n",
       "      <td>0.000000</td>\n",
       "      <td>1.000000</td>\n",
       "      <td>1.000000</td>\n",
       "    </tr>\n",
       "    <tr>\n",
       "      <th>25%</th>\n",
       "      <td>8801.000000</td>\n",
       "      <td>0.000000</td>\n",
       "      <td>201.000000</td>\n",
       "      <td>48.000000</td>\n",
       "      <td>1.000000</td>\n",
       "      <td>2.000000</td>\n",
       "      <td>3.000000</td>\n",
       "      <td>0.000000</td>\n",
       "      <td>0.000000</td>\n",
       "      <td>0.000000</td>\n",
       "      <td>...</td>\n",
       "      <td>8810.000000</td>\n",
       "      <td>8903.000000</td>\n",
       "      <td>4.000000</td>\n",
       "      <td>8.384615</td>\n",
       "      <td>47910.750000</td>\n",
       "      <td>0.000000</td>\n",
       "      <td>0.000000</td>\n",
       "      <td>0.000000</td>\n",
       "      <td>1.000000</td>\n",
       "      <td>15.000000</td>\n",
       "    </tr>\n",
       "    <tr>\n",
       "      <th>50%</th>\n",
       "      <td>9201.000000</td>\n",
       "      <td>1.000000</td>\n",
       "      <td>2610.000000</td>\n",
       "      <td>62.000000</td>\n",
       "      <td>1.000000</td>\n",
       "      <td>4.000000</td>\n",
       "      <td>6.000000</td>\n",
       "      <td>0.000000</td>\n",
       "      <td>0.000000</td>\n",
       "      <td>0.000000</td>\n",
       "      <td>...</td>\n",
       "      <td>9201.000000</td>\n",
       "      <td>9204.000000</td>\n",
       "      <td>6.000000</td>\n",
       "      <td>11.636364</td>\n",
       "      <td>95681.500000</td>\n",
       "      <td>0.000000</td>\n",
       "      <td>0.000000</td>\n",
       "      <td>1.000000</td>\n",
       "      <td>2.000000</td>\n",
       "      <td>32.000000</td>\n",
       "    </tr>\n",
       "    <tr>\n",
       "      <th>75%</th>\n",
       "      <td>9501.000000</td>\n",
       "      <td>2.000000</td>\n",
       "      <td>4601.000000</td>\n",
       "      <td>75.000000</td>\n",
       "      <td>2.000000</td>\n",
       "      <td>5.000000</td>\n",
       "      <td>8.000000</td>\n",
       "      <td>3.000000</td>\n",
       "      <td>0.000000</td>\n",
       "      <td>0.000000</td>\n",
       "      <td>...</td>\n",
       "      <td>9409.000000</td>\n",
       "      <td>9409.000000</td>\n",
       "      <td>11.000000</td>\n",
       "      <td>15.477955</td>\n",
       "      <td>143643.500000</td>\n",
       "      <td>0.000000</td>\n",
       "      <td>0.000000</td>\n",
       "      <td>1.000000</td>\n",
       "      <td>3.000000</td>\n",
       "      <td>49.000000</td>\n",
       "    </tr>\n",
       "    <tr>\n",
       "      <th>max</th>\n",
       "      <td>9701.000000</td>\n",
       "      <td>72002.000000</td>\n",
       "      <td>9710.000000</td>\n",
       "      <td>98.000000</td>\n",
       "      <td>7.000000</td>\n",
       "      <td>7.000000</td>\n",
       "      <td>9.000000</td>\n",
       "      <td>241.000000</td>\n",
       "      <td>6.000000</td>\n",
       "      <td>4.000000</td>\n",
       "      <td>...</td>\n",
       "      <td>9603.000000</td>\n",
       "      <td>9702.000000</td>\n",
       "      <td>1088.000000</td>\n",
       "      <td>1000.000000</td>\n",
       "      <td>191779.000000</td>\n",
       "      <td>1.000000</td>\n",
       "      <td>200.000000</td>\n",
       "      <td>1.000000</td>\n",
       "      <td>4.000000</td>\n",
       "      <td>62.000000</td>\n",
       "    </tr>\n",
       "  </tbody>\n",
       "</table>\n",
       "<p>8 rows × 407 columns</p>\n",
       "</div>"
      ],
      "text/plain": [
       "            ODATEDW         TCODE           DOB           AGE       NUMCHLD  \\\n",
       "count  95412.000000  95412.000000  95412.000000  71747.000000  12386.000000   \n",
       "mean    9141.363256     54.223117   2723.602933     61.611649      1.527773   \n",
       "std      343.454752    953.844476   2132.241295     16.664199      0.806861   \n",
       "min     8306.000000      0.000000      0.000000      1.000000      1.000000   \n",
       "25%     8801.000000      0.000000    201.000000     48.000000      1.000000   \n",
       "50%     9201.000000      1.000000   2610.000000     62.000000      1.000000   \n",
       "75%     9501.000000      2.000000   4601.000000     75.000000      2.000000   \n",
       "max     9701.000000  72002.000000   9710.000000     98.000000      7.000000   \n",
       "\n",
       "             INCOME       WEALTH1           HIT       MBCRAFT      MBGARDEN  \\\n",
       "count  74126.000000  50680.000000  95412.000000  42558.000000  42558.000000   \n",
       "mean       3.886248      5.345699      3.321438      0.152075      0.059166   \n",
       "std        1.854960      2.742490      9.306899      0.470023      0.262078   \n",
       "min        1.000000      0.000000      0.000000      0.000000      0.000000   \n",
       "25%        2.000000      3.000000      0.000000      0.000000      0.000000   \n",
       "50%        4.000000      6.000000      0.000000      0.000000      0.000000   \n",
       "75%        5.000000      8.000000      3.000000      0.000000      0.000000   \n",
       "max        7.000000      9.000000    241.000000      6.000000      4.000000   \n",
       "\n",
       "       ...      FISTDATE      NEXTDATE       TIMELAG       AVGGIFT  \\\n",
       "count  ...  95412.000000  85439.000000  85439.000000  95412.000000   \n",
       "mean   ...   9135.651648   9151.022917      8.093739     13.347786   \n",
       "std    ...    320.394019    294.257260      8.213242     10.769997   \n",
       "min    ...      0.000000   7211.000000      0.000000      1.285714   \n",
       "25%    ...   8810.000000   8903.000000      4.000000      8.384615   \n",
       "50%    ...   9201.000000   9204.000000      6.000000     11.636364   \n",
       "75%    ...   9409.000000   9409.000000     11.000000     15.477955   \n",
       "max    ...   9603.000000   9702.000000   1088.000000   1000.000000   \n",
       "\n",
       "            CONTROLN      TARGET_B      TARGET_D      HPHONE_D        RFA_2F  \\\n",
       "count   95412.000000  95412.000000  95412.000000  95412.000000  95412.000000   \n",
       "mean    95778.176959      0.050759      0.793073      0.500618      1.910053   \n",
       "std     55284.596094      0.219506      4.429725      0.500002      1.072749   \n",
       "min         1.000000      0.000000      0.000000      0.000000      1.000000   \n",
       "25%     47910.750000      0.000000      0.000000      0.000000      1.000000   \n",
       "50%     95681.500000      0.000000      0.000000      1.000000      2.000000   \n",
       "75%    143643.500000      0.000000      0.000000      1.000000      3.000000   \n",
       "max    191779.000000      1.000000    200.000000      1.000000      4.000000   \n",
       "\n",
       "           CLUSTER2  \n",
       "count  95280.000000  \n",
       "mean      31.533711  \n",
       "std       18.764614  \n",
       "min        1.000000  \n",
       "25%       15.000000  \n",
       "50%       32.000000  \n",
       "75%       49.000000  \n",
       "max       62.000000  \n",
       "\n",
       "[8 rows x 407 columns]"
      ]
     },
     "execution_count": 4,
     "metadata": {},
     "output_type": "execute_result"
    }
   ],
   "source": [
    "data.describe()"
   ]
  },
  {
   "cell_type": "code",
   "execution_count": 5,
   "id": "fb4c0d27",
   "metadata": {},
   "outputs": [
    {
     "data": {
      "text/html": [
       "<div>\n",
       "<style scoped>\n",
       "    .dataframe tbody tr th:only-of-type {\n",
       "        vertical-align: middle;\n",
       "    }\n",
       "\n",
       "    .dataframe tbody tr th {\n",
       "        vertical-align: top;\n",
       "    }\n",
       "\n",
       "    .dataframe thead th {\n",
       "        text-align: right;\n",
       "    }\n",
       "</style>\n",
       "<table border=\"1\" class=\"dataframe\">\n",
       "  <thead>\n",
       "    <tr style=\"text-align: right;\">\n",
       "      <th></th>\n",
       "      <th>OSOURCE</th>\n",
       "      <th>STATE</th>\n",
       "      <th>ZIP</th>\n",
       "      <th>MAILCODE</th>\n",
       "      <th>PVASTATE</th>\n",
       "      <th>NOEXCH</th>\n",
       "      <th>RECINHSE</th>\n",
       "      <th>RECP3</th>\n",
       "      <th>RECPGVG</th>\n",
       "      <th>RECSWEEP</th>\n",
       "      <th>...</th>\n",
       "      <th>RFA_21</th>\n",
       "      <th>RFA_22</th>\n",
       "      <th>RFA_23</th>\n",
       "      <th>RFA_24</th>\n",
       "      <th>RFA_2R</th>\n",
       "      <th>RFA_2A</th>\n",
       "      <th>MDMAUD_R</th>\n",
       "      <th>MDMAUD_F</th>\n",
       "      <th>MDMAUD_A</th>\n",
       "      <th>GEOCODE2</th>\n",
       "    </tr>\n",
       "  </thead>\n",
       "  <tbody>\n",
       "    <tr>\n",
       "      <th>0</th>\n",
       "      <td>GRI</td>\n",
       "      <td>IL</td>\n",
       "      <td>61081</td>\n",
       "      <td></td>\n",
       "      <td></td>\n",
       "      <td>0</td>\n",
       "      <td></td>\n",
       "      <td></td>\n",
       "      <td></td>\n",
       "      <td></td>\n",
       "      <td>...</td>\n",
       "      <td>S4E</td>\n",
       "      <td>S4E</td>\n",
       "      <td>S4E</td>\n",
       "      <td>S4E</td>\n",
       "      <td>L</td>\n",
       "      <td>E</td>\n",
       "      <td>X</td>\n",
       "      <td>X</td>\n",
       "      <td>X</td>\n",
       "      <td>C</td>\n",
       "    </tr>\n",
       "    <tr>\n",
       "      <th>1</th>\n",
       "      <td>BOA</td>\n",
       "      <td>CA</td>\n",
       "      <td>91326</td>\n",
       "      <td></td>\n",
       "      <td></td>\n",
       "      <td>0</td>\n",
       "      <td></td>\n",
       "      <td></td>\n",
       "      <td></td>\n",
       "      <td></td>\n",
       "      <td>...</td>\n",
       "      <td>N1E</td>\n",
       "      <td>N1E</td>\n",
       "      <td></td>\n",
       "      <td>F1E</td>\n",
       "      <td>L</td>\n",
       "      <td>G</td>\n",
       "      <td>X</td>\n",
       "      <td>X</td>\n",
       "      <td>X</td>\n",
       "      <td>A</td>\n",
       "    </tr>\n",
       "    <tr>\n",
       "      <th>2</th>\n",
       "      <td>AMH</td>\n",
       "      <td>NC</td>\n",
       "      <td>27017</td>\n",
       "      <td></td>\n",
       "      <td></td>\n",
       "      <td>0</td>\n",
       "      <td></td>\n",
       "      <td></td>\n",
       "      <td></td>\n",
       "      <td></td>\n",
       "      <td>...</td>\n",
       "      <td></td>\n",
       "      <td>S4D</td>\n",
       "      <td>S4D</td>\n",
       "      <td>S3D</td>\n",
       "      <td>L</td>\n",
       "      <td>E</td>\n",
       "      <td>X</td>\n",
       "      <td>X</td>\n",
       "      <td>X</td>\n",
       "      <td>C</td>\n",
       "    </tr>\n",
       "    <tr>\n",
       "      <th>3</th>\n",
       "      <td>BRY</td>\n",
       "      <td>CA</td>\n",
       "      <td>95953</td>\n",
       "      <td></td>\n",
       "      <td></td>\n",
       "      <td>0</td>\n",
       "      <td></td>\n",
       "      <td></td>\n",
       "      <td></td>\n",
       "      <td></td>\n",
       "      <td>...</td>\n",
       "      <td>A1D</td>\n",
       "      <td>A1D</td>\n",
       "      <td></td>\n",
       "      <td></td>\n",
       "      <td>L</td>\n",
       "      <td>E</td>\n",
       "      <td>X</td>\n",
       "      <td>X</td>\n",
       "      <td>X</td>\n",
       "      <td>C</td>\n",
       "    </tr>\n",
       "    <tr>\n",
       "      <th>4</th>\n",
       "      <td></td>\n",
       "      <td>FL</td>\n",
       "      <td>33176</td>\n",
       "      <td></td>\n",
       "      <td></td>\n",
       "      <td>0</td>\n",
       "      <td>X</td>\n",
       "      <td>X</td>\n",
       "      <td></td>\n",
       "      <td></td>\n",
       "      <td>...</td>\n",
       "      <td>A3D</td>\n",
       "      <td>I4E</td>\n",
       "      <td>A3D</td>\n",
       "      <td>A3D</td>\n",
       "      <td>L</td>\n",
       "      <td>F</td>\n",
       "      <td>X</td>\n",
       "      <td>X</td>\n",
       "      <td>X</td>\n",
       "      <td>A</td>\n",
       "    </tr>\n",
       "    <tr>\n",
       "      <th>...</th>\n",
       "      <td>...</td>\n",
       "      <td>...</td>\n",
       "      <td>...</td>\n",
       "      <td>...</td>\n",
       "      <td>...</td>\n",
       "      <td>...</td>\n",
       "      <td>...</td>\n",
       "      <td>...</td>\n",
       "      <td>...</td>\n",
       "      <td>...</td>\n",
       "      <td>...</td>\n",
       "      <td>...</td>\n",
       "      <td>...</td>\n",
       "      <td>...</td>\n",
       "      <td>...</td>\n",
       "      <td>...</td>\n",
       "      <td>...</td>\n",
       "      <td>...</td>\n",
       "      <td>...</td>\n",
       "      <td>...</td>\n",
       "      <td>...</td>\n",
       "    </tr>\n",
       "    <tr>\n",
       "      <th>95407</th>\n",
       "      <td>ASE</td>\n",
       "      <td>AK</td>\n",
       "      <td>99504</td>\n",
       "      <td></td>\n",
       "      <td></td>\n",
       "      <td>0</td>\n",
       "      <td></td>\n",
       "      <td></td>\n",
       "      <td></td>\n",
       "      <td></td>\n",
       "      <td>...</td>\n",
       "      <td></td>\n",
       "      <td></td>\n",
       "      <td></td>\n",
       "      <td></td>\n",
       "      <td>L</td>\n",
       "      <td>G</td>\n",
       "      <td>X</td>\n",
       "      <td>X</td>\n",
       "      <td>X</td>\n",
       "      <td>C</td>\n",
       "    </tr>\n",
       "    <tr>\n",
       "      <th>95408</th>\n",
       "      <td>DCD</td>\n",
       "      <td>TX</td>\n",
       "      <td>77379</td>\n",
       "      <td></td>\n",
       "      <td></td>\n",
       "      <td>0</td>\n",
       "      <td></td>\n",
       "      <td></td>\n",
       "      <td></td>\n",
       "      <td></td>\n",
       "      <td>...</td>\n",
       "      <td></td>\n",
       "      <td></td>\n",
       "      <td></td>\n",
       "      <td></td>\n",
       "      <td>L</td>\n",
       "      <td>F</td>\n",
       "      <td>X</td>\n",
       "      <td>X</td>\n",
       "      <td>X</td>\n",
       "      <td>A</td>\n",
       "    </tr>\n",
       "    <tr>\n",
       "      <th>95409</th>\n",
       "      <td>MBC</td>\n",
       "      <td>MI</td>\n",
       "      <td>48910</td>\n",
       "      <td></td>\n",
       "      <td></td>\n",
       "      <td>0</td>\n",
       "      <td></td>\n",
       "      <td>X</td>\n",
       "      <td></td>\n",
       "      <td></td>\n",
       "      <td>...</td>\n",
       "      <td>P1D</td>\n",
       "      <td>P1D</td>\n",
       "      <td></td>\n",
       "      <td></td>\n",
       "      <td>L</td>\n",
       "      <td>E</td>\n",
       "      <td>X</td>\n",
       "      <td>X</td>\n",
       "      <td>X</td>\n",
       "      <td>B</td>\n",
       "    </tr>\n",
       "    <tr>\n",
       "      <th>95410</th>\n",
       "      <td>PRV</td>\n",
       "      <td>CA</td>\n",
       "      <td>91320</td>\n",
       "      <td></td>\n",
       "      <td></td>\n",
       "      <td>0</td>\n",
       "      <td>X</td>\n",
       "      <td></td>\n",
       "      <td></td>\n",
       "      <td></td>\n",
       "      <td>...</td>\n",
       "      <td>A1F</td>\n",
       "      <td>A1F</td>\n",
       "      <td>S2F</td>\n",
       "      <td>S3F</td>\n",
       "      <td>L</td>\n",
       "      <td>F</td>\n",
       "      <td>X</td>\n",
       "      <td>X</td>\n",
       "      <td>X</td>\n",
       "      <td>A</td>\n",
       "    </tr>\n",
       "    <tr>\n",
       "      <th>95411</th>\n",
       "      <td>MCC</td>\n",
       "      <td>NC</td>\n",
       "      <td>28409</td>\n",
       "      <td></td>\n",
       "      <td></td>\n",
       "      <td>0</td>\n",
       "      <td>X</td>\n",
       "      <td></td>\n",
       "      <td>X</td>\n",
       "      <td></td>\n",
       "      <td>...</td>\n",
       "      <td>S3G</td>\n",
       "      <td>S3G</td>\n",
       "      <td>S3G</td>\n",
       "      <td>S3G</td>\n",
       "      <td>L</td>\n",
       "      <td>G</td>\n",
       "      <td>C</td>\n",
       "      <td>1</td>\n",
       "      <td>C</td>\n",
       "      <td>C</td>\n",
       "    </tr>\n",
       "  </tbody>\n",
       "</table>\n",
       "<p>95412 rows × 74 columns</p>\n",
       "</div>"
      ],
      "text/plain": [
       "      OSOURCE STATE    ZIP MAILCODE PVASTATE NOEXCH RECINHSE RECP3 RECPGVG  \\\n",
       "0         GRI    IL  61081                        0                          \n",
       "1         BOA    CA  91326                        0                          \n",
       "2         AMH    NC  27017                        0                          \n",
       "3         BRY    CA  95953                        0                          \n",
       "4                FL  33176                        0        X     X           \n",
       "...       ...   ...    ...      ...      ...    ...      ...   ...     ...   \n",
       "95407     ASE    AK  99504                        0                          \n",
       "95408     DCD    TX  77379                        0                          \n",
       "95409     MBC    MI  48910                        0              X           \n",
       "95410     PRV    CA  91320                        0        X                 \n",
       "95411     MCC    NC  28409                        0        X             X   \n",
       "\n",
       "      RECSWEEP  ... RFA_21 RFA_22 RFA_23 RFA_24 RFA_2R RFA_2A MDMAUD_R  \\\n",
       "0               ...    S4E    S4E    S4E    S4E      L      E        X   \n",
       "1               ...    N1E    N1E           F1E      L      G        X   \n",
       "2               ...           S4D    S4D    S3D      L      E        X   \n",
       "3               ...    A1D    A1D                    L      E        X   \n",
       "4               ...    A3D    I4E    A3D    A3D      L      F        X   \n",
       "...        ...  ...    ...    ...    ...    ...    ...    ...      ...   \n",
       "95407           ...                                  L      G        X   \n",
       "95408           ...                                  L      F        X   \n",
       "95409           ...    P1D    P1D                    L      E        X   \n",
       "95410           ...    A1F    A1F    S2F    S3F      L      F        X   \n",
       "95411           ...    S3G    S3G    S3G    S3G      L      G        C   \n",
       "\n",
       "      MDMAUD_F MDMAUD_A GEOCODE2  \n",
       "0            X        X        C  \n",
       "1            X        X        A  \n",
       "2            X        X        C  \n",
       "3            X        X        C  \n",
       "4            X        X        A  \n",
       "...        ...      ...      ...  \n",
       "95407        X        X        C  \n",
       "95408        X        X        A  \n",
       "95409        X        X        B  \n",
       "95410        X        X        A  \n",
       "95411        1        C        C  \n",
       "\n",
       "[95412 rows x 74 columns]"
      ]
     },
     "execution_count": 5,
     "metadata": {},
     "output_type": "execute_result"
    }
   ],
   "source": [
    "categoricals = data.select_dtypes(object)\n",
    "categoricals"
   ]
  },
  {
   "cell_type": "code",
   "execution_count": 6,
   "id": "238fb770",
   "metadata": {},
   "outputs": [
    {
     "data": {
      "text/plain": [
       "OSOURCE       0\n",
       "STATE         0\n",
       "ZIP           0\n",
       "MAILCODE      0\n",
       "PVASTATE      0\n",
       "           ... \n",
       "RFA_2A        0\n",
       "MDMAUD_R      0\n",
       "MDMAUD_F      0\n",
       "MDMAUD_A      0\n",
       "GEOCODE2    132\n",
       "Length: 74, dtype: int64"
      ]
     },
     "execution_count": 6,
     "metadata": {},
     "output_type": "execute_result"
    }
   ],
   "source": [
    "categoricals.isna().sum()  # one categorical column(GEOCODE2) has null values"
   ]
  },
  {
   "cell_type": "code",
   "execution_count": 7,
   "id": "4db07791",
   "metadata": {},
   "outputs": [
    {
     "data": {
      "text/html": [
       "<div>\n",
       "<style scoped>\n",
       "    .dataframe tbody tr th:only-of-type {\n",
       "        vertical-align: middle;\n",
       "    }\n",
       "\n",
       "    .dataframe tbody tr th {\n",
       "        vertical-align: top;\n",
       "    }\n",
       "\n",
       "    .dataframe thead th {\n",
       "        text-align: right;\n",
       "    }\n",
       "</style>\n",
       "<table border=\"1\" class=\"dataframe\">\n",
       "  <thead>\n",
       "    <tr style=\"text-align: right;\">\n",
       "      <th></th>\n",
       "      <th>percentage</th>\n",
       "    </tr>\n",
       "  </thead>\n",
       "  <tbody>\n",
       "    <tr>\n",
       "      <th>GEOCODE2</th>\n",
       "      <td>0.138347</td>\n",
       "    </tr>\n",
       "    <tr>\n",
       "      <th>RFA_12</th>\n",
       "      <td>0.000000</td>\n",
       "    </tr>\n",
       "    <tr>\n",
       "      <th>RFA_10</th>\n",
       "      <td>0.000000</td>\n",
       "    </tr>\n",
       "    <tr>\n",
       "      <th>RFA_9</th>\n",
       "      <td>0.000000</td>\n",
       "    </tr>\n",
       "    <tr>\n",
       "      <th>RFA_8</th>\n",
       "      <td>0.000000</td>\n",
       "    </tr>\n",
       "  </tbody>\n",
       "</table>\n",
       "</div>"
      ],
      "text/plain": [
       "          percentage\n",
       "GEOCODE2    0.138347\n",
       "RFA_12      0.000000\n",
       "RFA_10      0.000000\n",
       "RFA_9       0.000000\n",
       "RFA_8       0.000000"
      ]
     },
     "execution_count": 7,
     "metadata": {},
     "output_type": "execute_result"
    }
   ],
   "source": [
    "cat_nulls = pd.DataFrame(categoricals.isna().sum()*100/len(data), columns=['percentage'])\n",
    "cat_nulls.sort_values('percentage', ascending = False).head(5)\n",
    "# checking categorical column null values in percentages"
   ]
  },
  {
   "cell_type": "code",
   "execution_count": 8,
   "id": "81ed1f0d",
   "metadata": {},
   "outputs": [],
   "source": [
    "data['GEOCODE2'] = data['GEOCODE2'].replace(' ', 'A') \n",
    "# dealing the categorical null values with the highest value count"
   ]
  },
  {
   "cell_type": "code",
   "execution_count": 9,
   "id": "fecc09fb",
   "metadata": {},
   "outputs": [
    {
     "data": {
      "text/plain": [
       "A    34671\n",
       "B    28505\n",
       "D    16580\n",
       "C    15524\n",
       "Name: GEOCODE2, dtype: int64"
      ]
     },
     "execution_count": 9,
     "metadata": {},
     "output_type": "execute_result"
    }
   ],
   "source": [
    "data['GEOCODE2'].value_counts()"
   ]
  },
  {
   "cell_type": "markdown",
   "id": "37f43f1f",
   "metadata": {},
   "source": [
    "create a list to collect features that we want want to drop"
   ]
  },
  {
   "cell_type": "code",
   "execution_count": 10,
   "id": "f9e8b299",
   "metadata": {},
   "outputs": [],
   "source": [
    "drop_list = []"
   ]
  },
  {
   "cell_type": "code",
   "execution_count": 11,
   "id": "f88946ba",
   "metadata": {},
   "outputs": [
    {
     "name": "stdout",
     "output_type": "stream",
     "text": [
      "Amount of unique values in OSOURCE:  896\n"
     ]
    }
   ],
   "source": [
    "print('Amount of unique values in OSOURCE: ', len(data['OSOURCE'].unique())) "
   ]
  },
  {
   "cell_type": "code",
   "execution_count": 12,
   "id": "e1c157e8",
   "metadata": {},
   "outputs": [
    {
     "name": "stdout",
     "output_type": "stream",
     "text": [
      "Amount of unique values in ZIP:  896\n"
     ]
    }
   ],
   "source": [
    "print('Amount of unique values in ZIP: ', len(data['OSOURCE'].unique()))"
   ]
  },
  {
   "cell_type": "code",
   "execution_count": 13,
   "id": "c3280bfc",
   "metadata": {},
   "outputs": [],
   "source": [
    "drop_list.extend(['OSOURCE', 'ZIP'])"
   ]
  },
  {
   "cell_type": "code",
   "execution_count": 14,
   "id": "0f738f7f",
   "metadata": {},
   "outputs": [
    {
     "data": {
      "text/plain": [
       "['OSOURCE', 'ZIP']"
      ]
     },
     "execution_count": 14,
     "metadata": {},
     "output_type": "execute_result"
    }
   ],
   "source": [
    "drop_list"
   ]
  },
  {
   "cell_type": "markdown",
   "id": "b2f05ef4",
   "metadata": {},
   "source": [
    "## Null values check"
   ]
  },
  {
   "cell_type": "code",
   "execution_count": 15,
   "id": "8ba54e0b",
   "metadata": {},
   "outputs": [],
   "source": [
    "null_cols = data.isna().sum() / data.shape[0] * 100"
   ]
  },
  {
   "cell_type": "code",
   "execution_count": 16,
   "id": "4b5d3be6",
   "metadata": {},
   "outputs": [
    {
     "name": "stdout",
     "output_type": "stream",
     "text": [
      "features with null values:  92\n"
     ]
    }
   ],
   "source": [
    "print('features with null values: ', len(null_cols[null_cols > 0]))"
   ]
  },
  {
   "cell_type": "code",
   "execution_count": 17,
   "id": "08f40bd8",
   "metadata": {},
   "outputs": [
    {
     "name": "stdout",
     "output_type": "stream",
     "text": [
      "Features with null values > 85%:  25\n"
     ]
    },
    {
     "data": {
      "text/plain": [
       "NUMCHLD     87.018404\n",
       "RDATE_3     99.746363\n",
       "RDATE_4     99.705488\n",
       "RDATE_5     99.990567\n",
       "RDATE_6     99.186685\n",
       "RDATE_7     90.677273\n",
       "RDATE_10    89.035970\n",
       "RDATE_13    87.160944\n",
       "RDATE_15    92.388798\n",
       "RDATE_17    90.146942\n",
       "RDATE_20    91.732696\n",
       "RDATE_21    90.029556\n",
       "RDATE_23    91.763091\n",
       "RAMNT_3     99.746363\n",
       "RAMNT_4     99.705488\n",
       "RAMNT_5     99.990567\n",
       "RAMNT_6     99.186685\n",
       "RAMNT_7     90.677273\n",
       "RAMNT_10    89.035970\n",
       "RAMNT_13    87.160944\n",
       "RAMNT_15    92.388798\n",
       "RAMNT_17    90.146942\n",
       "RAMNT_20    91.732696\n",
       "RAMNT_21    90.029556\n",
       "RAMNT_23    91.763091\n",
       "dtype: float64"
      ]
     },
     "execution_count": 17,
     "metadata": {},
     "output_type": "execute_result"
    }
   ],
   "source": [
    "print('Features with null values > 85%: ', len(null_cols[null_cols > 85.]))\n",
    "null_cols[null_cols > 85.]"
   ]
  },
  {
   "cell_type": "markdown",
   "id": "85f39877",
   "metadata": {},
   "source": [
    "adding the features with more than 85% null values to the drop list"
   ]
  },
  {
   "cell_type": "code",
   "execution_count": 18,
   "id": "dd3f68fc",
   "metadata": {},
   "outputs": [],
   "source": [
    "drop_list.extend(null_cols[null_cols > 85.].index)"
   ]
  },
  {
   "cell_type": "code",
   "execution_count": 19,
   "id": "39f94993",
   "metadata": {},
   "outputs": [
    {
     "data": {
      "text/plain": [
       "27"
      ]
     },
     "execution_count": 19,
     "metadata": {},
     "output_type": "execute_result"
    }
   ],
   "source": [
    "len(drop_list)"
   ]
  },
  {
   "cell_type": "code",
   "execution_count": 20,
   "id": "5441f22c",
   "metadata": {},
   "outputs": [
    {
     "name": "stdout",
     "output_type": "stream",
     "text": [
      "F    51277\n",
      "M    39094\n",
      "      2957\n",
      "U     1715\n",
      "J      365\n",
      "C        2\n",
      "A        2\n",
      "Name: GENDER, dtype: int64\n"
     ]
    }
   ],
   "source": [
    "print(categoricals['GENDER'].value_counts())"
   ]
  },
  {
   "cell_type": "code",
   "execution_count": 21,
   "id": "1454686a",
   "metadata": {},
   "outputs": [],
   "source": [
    "categoricals['GENDER'] = categoricals['GENDER'].fillna('F')"
   ]
  },
  {
   "cell_type": "code",
   "execution_count": 22,
   "id": "cb01a59d",
   "metadata": {},
   "outputs": [
    {
     "name": "stdout",
     "output_type": "stream",
     "text": [
      "F    51277\n",
      "M    39094\n",
      "      2957\n",
      "U     1715\n",
      "J      365\n",
      "C        2\n",
      "A        2\n",
      "Name: GENDER, dtype: int64\n"
     ]
    }
   ],
   "source": [
    "print(categoricals['GENDER'].value_counts())"
   ]
  },
  {
   "cell_type": "code",
   "execution_count": 23,
   "id": "b84f9283",
   "metadata": {},
   "outputs": [],
   "source": [
    "categoricals['GENDER'] = categoricals['GENDER'].replace(' ', 'F')"
   ]
  },
  {
   "cell_type": "code",
   "execution_count": 24,
   "id": "537cbfbd",
   "metadata": {},
   "outputs": [
    {
     "data": {
      "text/plain": [
       "F    54234\n",
       "M    39094\n",
       "O     2084\n",
       "Name: GENDER, dtype: int64"
      ]
     },
     "execution_count": 24,
     "metadata": {},
     "output_type": "execute_result"
    }
   ],
   "source": [
    "categoricals['GENDER'] = categoricals['GENDER'].apply(lambda x: x if x in ['M', 'F'] else 'O')\n",
    "\n",
    "categoricals['GENDER'].value_counts() # Bucketing the Gender column"
   ]
  },
  {
   "cell_type": "markdown",
   "id": "a0302564",
   "metadata": {},
   "source": [
    "## Lab-2  Feature Engineering."
   ]
  },
  {
   "cell_type": "code",
   "execution_count": 25,
   "id": "b2c6ac61",
   "metadata": {},
   "outputs": [
    {
     "data": {
      "text/plain": [
       "(95412, 407)"
      ]
     },
     "execution_count": 25,
     "metadata": {},
     "output_type": "execute_result"
    }
   ],
   "source": [
    "numericals = data.select_dtypes('number')\n",
    "numericals.shape"
   ]
  },
  {
   "cell_type": "code",
   "execution_count": 26,
   "id": "556da13b",
   "metadata": {},
   "outputs": [
    {
     "data": {
      "text/html": [
       "<div>\n",
       "<style scoped>\n",
       "    .dataframe tbody tr th:only-of-type {\n",
       "        vertical-align: middle;\n",
       "    }\n",
       "\n",
       "    .dataframe tbody tr th {\n",
       "        vertical-align: top;\n",
       "    }\n",
       "\n",
       "    .dataframe thead th {\n",
       "        text-align: right;\n",
       "    }\n",
       "</style>\n",
       "<table border=\"1\" class=\"dataframe\">\n",
       "  <thead>\n",
       "    <tr style=\"text-align: right;\">\n",
       "      <th></th>\n",
       "      <th>percentage</th>\n",
       "    </tr>\n",
       "  </thead>\n",
       "  <tbody>\n",
       "    <tr>\n",
       "      <th>RDATE_5</th>\n",
       "      <td>99.990567</td>\n",
       "    </tr>\n",
       "    <tr>\n",
       "      <th>RAMNT_5</th>\n",
       "      <td>99.990567</td>\n",
       "    </tr>\n",
       "    <tr>\n",
       "      <th>RDATE_3</th>\n",
       "      <td>99.746363</td>\n",
       "    </tr>\n",
       "    <tr>\n",
       "      <th>RAMNT_3</th>\n",
       "      <td>99.746363</td>\n",
       "    </tr>\n",
       "    <tr>\n",
       "      <th>RDATE_4</th>\n",
       "      <td>99.705488</td>\n",
       "    </tr>\n",
       "    <tr>\n",
       "      <th>...</th>\n",
       "      <td>...</td>\n",
       "    </tr>\n",
       "    <tr>\n",
       "      <th>HUPA7</th>\n",
       "      <td>0.000000</td>\n",
       "    </tr>\n",
       "    <tr>\n",
       "      <th>HUPA6</th>\n",
       "      <td>0.000000</td>\n",
       "    </tr>\n",
       "    <tr>\n",
       "      <th>HUPA5</th>\n",
       "      <td>0.000000</td>\n",
       "    </tr>\n",
       "    <tr>\n",
       "      <th>HUPA4</th>\n",
       "      <td>0.000000</td>\n",
       "    </tr>\n",
       "    <tr>\n",
       "      <th>LFC6</th>\n",
       "      <td>0.000000</td>\n",
       "    </tr>\n",
       "  </tbody>\n",
       "</table>\n",
       "<p>407 rows × 1 columns</p>\n",
       "</div>"
      ],
      "text/plain": [
       "         percentage\n",
       "RDATE_5   99.990567\n",
       "RAMNT_5   99.990567\n",
       "RDATE_3   99.746363\n",
       "RAMNT_3   99.746363\n",
       "RDATE_4   99.705488\n",
       "...             ...\n",
       "HUPA7      0.000000\n",
       "HUPA6      0.000000\n",
       "HUPA5      0.000000\n",
       "HUPA4      0.000000\n",
       "LFC6       0.000000\n",
       "\n",
       "[407 rows x 1 columns]"
      ]
     },
     "execution_count": 26,
     "metadata": {},
     "output_type": "execute_result"
    }
   ],
   "source": [
    "num_nulls = pd.DataFrame(numericals.isna().sum()*100/len(data), columns=['percentage'])\n",
    "num_nulls.sort_values('percentage', ascending = False)"
   ]
  },
  {
   "cell_type": "code",
   "execution_count": 27,
   "id": "00da1d1d",
   "metadata": {},
   "outputs": [],
   "source": [
    "lst=['WEALTH1','ADI','DMA','MSA']  # created a list of the given features to deal with null values"
   ]
  },
  {
   "cell_type": "code",
   "execution_count": 28,
   "id": "761cc4f5",
   "metadata": {},
   "outputs": [],
   "source": [
    "def find_index(lst):\n",
    "    dic={}\n",
    "    for i in range(len(lst)):\n",
    "        for j in range(len(num_nulls.index)):\n",
    "            if num_nulls.index[j] == lst[i]:\n",
    "                dic[lst[i]]=j\n",
    "    return dic"
   ]
  },
  {
   "cell_type": "code",
   "execution_count": 29,
   "id": "8ad8e9cf",
   "metadata": {},
   "outputs": [
    {
     "data": {
      "text/plain": [
       "{'WEALTH1': 6, 'ADI': 151, 'DMA': 152, 'MSA': 150}"
      ]
     },
     "execution_count": 29,
     "metadata": {},
     "output_type": "execute_result"
    }
   ],
   "source": [
    "find_index(lst) #GEOCODE2 not in index because it is a categorical feature and it's "
   ]
  },
  {
   "cell_type": "code",
   "execution_count": 30,
   "id": "5777705a",
   "metadata": {},
   "outputs": [
    {
     "data": {
      "text/html": [
       "<div>\n",
       "<style scoped>\n",
       "    .dataframe tbody tr th:only-of-type {\n",
       "        vertical-align: middle;\n",
       "    }\n",
       "\n",
       "    .dataframe tbody tr th {\n",
       "        vertical-align: top;\n",
       "    }\n",
       "\n",
       "    .dataframe thead th {\n",
       "        text-align: right;\n",
       "    }\n",
       "</style>\n",
       "<table border=\"1\" class=\"dataframe\">\n",
       "  <thead>\n",
       "    <tr style=\"text-align: right;\">\n",
       "      <th></th>\n",
       "      <th>percentage</th>\n",
       "    </tr>\n",
       "  </thead>\n",
       "  <tbody>\n",
       "    <tr>\n",
       "      <th>WEALTH1</th>\n",
       "      <td>46.882992</td>\n",
       "    </tr>\n",
       "    <tr>\n",
       "      <th>ADI</th>\n",
       "      <td>0.138347</td>\n",
       "    </tr>\n",
       "    <tr>\n",
       "      <th>DMA</th>\n",
       "      <td>0.138347</td>\n",
       "    </tr>\n",
       "    <tr>\n",
       "      <th>MSA</th>\n",
       "      <td>0.138347</td>\n",
       "    </tr>\n",
       "  </tbody>\n",
       "</table>\n",
       "</div>"
      ],
      "text/plain": [
       "         percentage\n",
       "WEALTH1   46.882992\n",
       "ADI        0.138347\n",
       "DMA        0.138347\n",
       "MSA        0.138347"
      ]
     },
     "execution_count": 30,
     "metadata": {},
     "output_type": "execute_result"
    }
   ],
   "source": [
    "view_nulls=num_nulls.loc[lst]\n",
    "view_nulls"
   ]
  },
  {
   "cell_type": "code",
   "execution_count": 31,
   "id": "9e064a32",
   "metadata": {},
   "outputs": [
    {
     "data": {
      "text/html": [
       "<div>\n",
       "<style scoped>\n",
       "    .dataframe tbody tr th:only-of-type {\n",
       "        vertical-align: middle;\n",
       "    }\n",
       "\n",
       "    .dataframe tbody tr th {\n",
       "        vertical-align: top;\n",
       "    }\n",
       "\n",
       "    .dataframe thead th {\n",
       "        text-align: right;\n",
       "    }\n",
       "</style>\n",
       "<table border=\"1\" class=\"dataframe\">\n",
       "  <thead>\n",
       "    <tr style=\"text-align: right;\">\n",
       "      <th></th>\n",
       "      <th>WEALTH1</th>\n",
       "      <th>ADI</th>\n",
       "      <th>DMA</th>\n",
       "      <th>MSA</th>\n",
       "    </tr>\n",
       "  </thead>\n",
       "  <tbody>\n",
       "    <tr>\n",
       "      <th>0</th>\n",
       "      <td>NaN</td>\n",
       "      <td>177.0</td>\n",
       "      <td>682.0</td>\n",
       "      <td>0.0</td>\n",
       "    </tr>\n",
       "    <tr>\n",
       "      <th>1</th>\n",
       "      <td>9.0</td>\n",
       "      <td>13.0</td>\n",
       "      <td>803.0</td>\n",
       "      <td>4480.0</td>\n",
       "    </tr>\n",
       "    <tr>\n",
       "      <th>2</th>\n",
       "      <td>1.0</td>\n",
       "      <td>281.0</td>\n",
       "      <td>518.0</td>\n",
       "      <td>0.0</td>\n",
       "    </tr>\n",
       "    <tr>\n",
       "      <th>3</th>\n",
       "      <td>4.0</td>\n",
       "      <td>67.0</td>\n",
       "      <td>862.0</td>\n",
       "      <td>9340.0</td>\n",
       "    </tr>\n",
       "    <tr>\n",
       "      <th>4</th>\n",
       "      <td>2.0</td>\n",
       "      <td>127.0</td>\n",
       "      <td>528.0</td>\n",
       "      <td>5000.0</td>\n",
       "    </tr>\n",
       "    <tr>\n",
       "      <th>...</th>\n",
       "      <td>...</td>\n",
       "      <td>...</td>\n",
       "      <td>...</td>\n",
       "      <td>...</td>\n",
       "    </tr>\n",
       "    <tr>\n",
       "      <th>95407</th>\n",
       "      <td>NaN</td>\n",
       "      <td>0.0</td>\n",
       "      <td>743.0</td>\n",
       "      <td>380.0</td>\n",
       "    </tr>\n",
       "    <tr>\n",
       "      <th>95408</th>\n",
       "      <td>9.0</td>\n",
       "      <td>201.0</td>\n",
       "      <td>618.0</td>\n",
       "      <td>3360.0</td>\n",
       "    </tr>\n",
       "    <tr>\n",
       "      <th>95409</th>\n",
       "      <td>NaN</td>\n",
       "      <td>61.0</td>\n",
       "      <td>551.0</td>\n",
       "      <td>4040.0</td>\n",
       "    </tr>\n",
       "    <tr>\n",
       "      <th>95410</th>\n",
       "      <td>NaN</td>\n",
       "      <td>13.0</td>\n",
       "      <td>803.0</td>\n",
       "      <td>8735.0</td>\n",
       "    </tr>\n",
       "    <tr>\n",
       "      <th>95411</th>\n",
       "      <td>8.0</td>\n",
       "      <td>355.0</td>\n",
       "      <td>550.0</td>\n",
       "      <td>9200.0</td>\n",
       "    </tr>\n",
       "  </tbody>\n",
       "</table>\n",
       "<p>95412 rows × 4 columns</p>\n",
       "</div>"
      ],
      "text/plain": [
       "       WEALTH1    ADI    DMA     MSA\n",
       "0          NaN  177.0  682.0     0.0\n",
       "1          9.0   13.0  803.0  4480.0\n",
       "2          1.0  281.0  518.0     0.0\n",
       "3          4.0   67.0  862.0  9340.0\n",
       "4          2.0  127.0  528.0  5000.0\n",
       "...        ...    ...    ...     ...\n",
       "95407      NaN    0.0  743.0   380.0\n",
       "95408      9.0  201.0  618.0  3360.0\n",
       "95409      NaN   61.0  551.0  4040.0\n",
       "95410      NaN   13.0  803.0  8735.0\n",
       "95411      8.0  355.0  550.0  9200.0\n",
       "\n",
       "[95412 rows x 4 columns]"
      ]
     },
     "execution_count": 31,
     "metadata": {},
     "output_type": "execute_result"
    }
   ],
   "source": [
    "view=numericals[lst]\n",
    "view"
   ]
  },
  {
   "cell_type": "code",
   "execution_count": 32,
   "id": "72403d31",
   "metadata": {},
   "outputs": [
    {
     "data": {
      "text/plain": [
       "array([[<AxesSubplot: title={'center': 'WEALTH1'}>,\n",
       "        <AxesSubplot: title={'center': 'ADI'}>],\n",
       "       [<AxesSubplot: title={'center': 'DMA'}>,\n",
       "        <AxesSubplot: title={'center': 'MSA'}>]], dtype=object)"
      ]
     },
     "execution_count": 32,
     "metadata": {},
     "output_type": "execute_result"
    },
    {
     "data": {
      "image/png": "[encoded data removed]",
      "text/plain": [
       "<Figure size 1080x864 with 4 Axes>"
      ]
     },
     "metadata": {
      "needs_background": "light"
     },
     "output_type": "display_data"
    }
   ],
   "source": [
    "view.hist(figsize=(15,12),bins=40) # checking how well the data distributed before dealing with null values"
   ]
  },
  {
   "cell_type": "code",
   "execution_count": 33,
   "id": "a793a685",
   "metadata": {},
   "outputs": [],
   "source": [
    "numericals['WEALTH1'].fillna(method='bfill', inplace=True) # the data is equally distributed and 46% of data has null values, so i decided to replace the null with bfill or ffill\n",
    "numericals['ADI'].fillna(numericals['ADI'].median(), inplace=True) #0.13% of data has null values, so replacing with mean or median\n",
    "numericals['DMA'].fillna(numericals['DMA'].mean(), inplace=True)\n",
    "numericals['MSA'].fillna(numericals['MSA'].median(), inplace=True)"
   ]
  },
  {
   "cell_type": "code",
   "execution_count": 34,
   "id": "8547e9cf",
   "metadata": {},
   "outputs": [
    {
     "data": {
      "text/html": [
       "<div>\n",
       "<style scoped>\n",
       "    .dataframe tbody tr th:only-of-type {\n",
       "        vertical-align: middle;\n",
       "    }\n",
       "\n",
       "    .dataframe tbody tr th {\n",
       "        vertical-align: top;\n",
       "    }\n",
       "\n",
       "    .dataframe thead th {\n",
       "        text-align: right;\n",
       "    }\n",
       "</style>\n",
       "<table border=\"1\" class=\"dataframe\">\n",
       "  <thead>\n",
       "    <tr style=\"text-align: right;\">\n",
       "      <th></th>\n",
       "      <th>percentage</th>\n",
       "    </tr>\n",
       "  </thead>\n",
       "  <tbody>\n",
       "    <tr>\n",
       "      <th>RAMNT_5</th>\n",
       "      <td>99.990567</td>\n",
       "    </tr>\n",
       "    <tr>\n",
       "      <th>RDATE_5</th>\n",
       "      <td>99.990567</td>\n",
       "    </tr>\n",
       "    <tr>\n",
       "      <th>RDATE_3</th>\n",
       "      <td>99.746363</td>\n",
       "    </tr>\n",
       "    <tr>\n",
       "      <th>RAMNT_3</th>\n",
       "      <td>99.746363</td>\n",
       "    </tr>\n",
       "    <tr>\n",
       "      <th>RDATE_4</th>\n",
       "      <td>99.705488</td>\n",
       "    </tr>\n",
       "    <tr>\n",
       "      <th>...</th>\n",
       "      <td>...</td>\n",
       "    </tr>\n",
       "    <tr>\n",
       "      <th>HUPA7</th>\n",
       "      <td>0.000000</td>\n",
       "    </tr>\n",
       "    <tr>\n",
       "      <th>HUPA6</th>\n",
       "      <td>0.000000</td>\n",
       "    </tr>\n",
       "    <tr>\n",
       "      <th>HUPA5</th>\n",
       "      <td>0.000000</td>\n",
       "    </tr>\n",
       "    <tr>\n",
       "      <th>HUPA4</th>\n",
       "      <td>0.000000</td>\n",
       "    </tr>\n",
       "    <tr>\n",
       "      <th>LFC6</th>\n",
       "      <td>0.000000</td>\n",
       "    </tr>\n",
       "  </tbody>\n",
       "</table>\n",
       "<p>407 rows × 1 columns</p>\n",
       "</div>"
      ],
      "text/plain": [
       "         percentage\n",
       "RAMNT_5   99.990567\n",
       "RDATE_5   99.990567\n",
       "RDATE_3   99.746363\n",
       "RAMNT_3   99.746363\n",
       "RDATE_4   99.705488\n",
       "...             ...\n",
       "HUPA7      0.000000\n",
       "HUPA6      0.000000\n",
       "HUPA5      0.000000\n",
       "HUPA4      0.000000\n",
       "LFC6       0.000000\n",
       "\n",
       "[407 rows x 1 columns]"
      ]
     },
     "execution_count": 34,
     "metadata": {},
     "output_type": "execute_result"
    }
   ],
   "source": [
    "num_nulls = pd.DataFrame(numericals.isna().sum()*100/len(data), columns=['percentage'])\n",
    "num_nulls.sort_values('percentage', ascending = False)"
   ]
  },
  {
   "cell_type": "code",
   "execution_count": 35,
   "id": "baf8e879",
   "metadata": {},
   "outputs": [
    {
     "data": {
      "text/html": [
       "<div>\n",
       "<style scoped>\n",
       "    .dataframe tbody tr th:only-of-type {\n",
       "        vertical-align: middle;\n",
       "    }\n",
       "\n",
       "    .dataframe tbody tr th {\n",
       "        vertical-align: top;\n",
       "    }\n",
       "\n",
       "    .dataframe thead th {\n",
       "        text-align: right;\n",
       "    }\n",
       "</style>\n",
       "<table border=\"1\" class=\"dataframe\">\n",
       "  <thead>\n",
       "    <tr style=\"text-align: right;\">\n",
       "      <th></th>\n",
       "      <th>percentage</th>\n",
       "    </tr>\n",
       "  </thead>\n",
       "  <tbody>\n",
       "    <tr>\n",
       "      <th>WEALTH1</th>\n",
       "      <td>0.0</td>\n",
       "    </tr>\n",
       "    <tr>\n",
       "      <th>ADI</th>\n",
       "      <td>0.0</td>\n",
       "    </tr>\n",
       "    <tr>\n",
       "      <th>DMA</th>\n",
       "      <td>0.0</td>\n",
       "    </tr>\n",
       "    <tr>\n",
       "      <th>MSA</th>\n",
       "      <td>0.0</td>\n",
       "    </tr>\n",
       "  </tbody>\n",
       "</table>\n",
       "</div>"
      ],
      "text/plain": [
       "         percentage\n",
       "WEALTH1         0.0\n",
       "ADI             0.0\n",
       "DMA             0.0\n",
       "MSA             0.0"
      ]
     },
     "execution_count": 35,
     "metadata": {},
     "output_type": "execute_result"
    }
   ],
   "source": [
    "#num_nulls=nulls_percentage(numericals)\n",
    "view_nulls=num_nulls.loc[lst]\n",
    "view_nulls"
   ]
  },
  {
   "cell_type": "code",
   "execution_count": 36,
   "id": "9774b6a2",
   "metadata": {},
   "outputs": [
    {
     "data": {
      "text/plain": [
       "array([[<AxesSubplot: title={'center': 'WEALTH1'}>,\n",
       "        <AxesSubplot: title={'center': 'ADI'}>],\n",
       "       [<AxesSubplot: title={'center': 'DMA'}>,\n",
       "        <AxesSubplot: title={'center': 'MSA'}>]], dtype=object)"
      ]
     },
     "execution_count": 36,
     "metadata": {},
     "output_type": "execute_result"
    },
    {
     "data": {
      "image/png": "[encoded data removed]",
      "text/plain": [
       "<Figure size 1080x864 with 4 Axes>"
      ]
     },
     "metadata": {
      "needs_background": "light"
     },
     "output_type": "display_data"
    }
   ],
   "source": [
    "view=numericals[lst]\n",
    "view.hist(figsize=(15,12),bins=40)"
   ]
  },
  {
   "cell_type": "code",
   "execution_count": null,
   "id": "fdea5a61",
   "metadata": {},
   "outputs": [],
   "source": []
  }
 ],
 "metadata": {
  "kernelspec": {
   "display_name": "Python 3 (ipykernel)",
   "language": "python",
   "name": "python3"
  },
  "language_info": {
   "codemirror_mode": {
    "name": "ipython",
    "version": 3
   },
   "file_extension": ".py",
   "mimetype": "text/x-python",
   "name": "python",
   "nbconvert_exporter": "python",
   "pygments_lexer": "ipython3",
   "version": "3.9.12"
  }
 },
 "nbformat": 4,
 "nbformat_minor": 5
}
